{
 "cells": [
  {
   "cell_type": "code",
   "execution_count": 43,
   "metadata": {
    "collapsed": false
   },
   "outputs": [
    {
     "data": {
      "text/html": [
       "<div>\n",
       "<style scoped>\n",
       "    .dataframe tbody tr th:only-of-type {\n",
       "        vertical-align: middle;\n",
       "    }\n",
       "\n",
       "    .dataframe tbody tr th {\n",
       "        vertical-align: top;\n",
       "    }\n",
       "\n",
       "    .dataframe thead th {\n",
       "        text-align: right;\n",
       "    }\n",
       "</style>\n",
       "<table border=\"1\" class=\"dataframe\">\n",
       "  <thead>\n",
       "    <tr style=\"text-align: right;\">\n",
       "      <th></th>\n",
       "      <th>PassengerId</th>\n",
       "      <th>Pclass</th>\n",
       "      <th>Name</th>\n",
       "      <th>Sex</th>\n",
       "      <th>Age</th>\n",
       "      <th>SibSp</th>\n",
       "      <th>Parch</th>\n",
       "      <th>Ticket</th>\n",
       "      <th>Fare</th>\n",
       "      <th>Cabin</th>\n",
       "      <th>Embarked</th>\n",
       "    </tr>\n",
       "  </thead>\n",
       "  <tbody>\n",
       "    <tr>\n",
       "      <th>189</th>\n",
       "      <td>1081</td>\n",
       "      <td>2</td>\n",
       "      <td>Veal, Mr. James</td>\n",
       "      <td>male</td>\n",
       "      <td>40.0</td>\n",
       "      <td>0</td>\n",
       "      <td>0</td>\n",
       "      <td>28221</td>\n",
       "      <td>13.0</td>\n",
       "      <td>NaN</td>\n",
       "      <td>S</td>\n",
       "    </tr>\n",
       "    <tr>\n",
       "      <th>248</th>\n",
       "      <td>1140</td>\n",
       "      <td>2</td>\n",
       "      <td>Hold, Mrs. Stephen (Annie Margaret Hill)</td>\n",
       "      <td>female</td>\n",
       "      <td>29.0</td>\n",
       "      <td>1</td>\n",
       "      <td>0</td>\n",
       "      <td>26707</td>\n",
       "      <td>26.0</td>\n",
       "      <td>NaN</td>\n",
       "      <td>S</td>\n",
       "    </tr>\n",
       "  </tbody>\n",
       "</table>\n",
       "</div>"
      ],
      "text/plain": [
       "     PassengerId  Pclass                                      Name     Sex  \\\n",
       "189         1081       2                           Veal, Mr. James    male   \n",
       "248         1140       2  Hold, Mrs. Stephen (Annie Margaret Hill)  female   \n",
       "\n",
       "      Age  SibSp  Parch Ticket  Fare Cabin Embarked  \n",
       "189  40.0      0      0  28221  13.0   NaN        S  \n",
       "248  29.0      1      0  26707  26.0   NaN        S  "
      ]
     },
     "execution_count": 43,
     "metadata": {},
     "output_type": "execute_result"
    }
   ],
   "source": [
    "import numpy as np\n",
    "import pandas as pd\n",
    "import matplotlib.pyplot as plt\n",
    "import seaborn as sns\n",
    "%matplotlib inline\n",
    "\n",
    "data_train = pd.read_csv('/home/somit/Kaggle/Titanic/train.csv')\n",
    "data_test = pd.read_csv('/home/somit/Kaggle/Titanic/test.csv')\n",
    "#data_train.sample(2)\n",
    "data_test.sample(2)\n",
    "#data_train.describe()"
   ]
  },
  {
   "cell_type": "code",
   "execution_count": 44,
   "metadata": {
    "collapsed": false
   },
   "outputs": [
    {
     "data": {
      "text/plain": [
       "<matplotlib.axes._subplots.AxesSubplot at 0x7fd55c569890>"
      ]
     },
     "execution_count": 44,
     "metadata": {},
     "output_type": "execute_result"
    },
    {
     "data": {
      "image/png": "[encoded data removed]",
      "text/plain": [
       "<matplotlib.figure.Figure at 0x7fd55e66b290>"
      ]
     },
     "metadata": {},
     "output_type": "display_data"
    }
   ],
   "source": [
    "sns.barplot(x=\"Pclass\",y=\"Survived\",hue=\"Sex\",data=data_train)"
   ]
  },
  {
   "cell_type": "code",
   "execution_count": 45,
   "metadata": {
    "collapsed": false
   },
   "outputs": [
    {
     "data": {
      "text/html": [
       "<div>\n",
       "<style scoped>\n",
       "    .dataframe tbody tr th:only-of-type {\n",
       "        vertical-align: middle;\n",
       "    }\n",
       "\n",
       "    .dataframe tbody tr th {\n",
       "        vertical-align: top;\n",
       "    }\n",
       "\n",
       "    .dataframe thead th {\n",
       "        text-align: right;\n",
       "    }\n",
       "</style>\n",
       "<table border=\"1\" class=\"dataframe\">\n",
       "  <thead>\n",
       "    <tr style=\"text-align: right;\">\n",
       "      <th></th>\n",
       "      <th>PassengerId</th>\n",
       "      <th>Survived</th>\n",
       "      <th>Pclass</th>\n",
       "      <th>Sex</th>\n",
       "      <th>Age</th>\n",
       "      <th>SibSp</th>\n",
       "      <th>Parch</th>\n",
       "      <th>Embarked</th>\n",
       "    </tr>\n",
       "  </thead>\n",
       "  <tbody>\n",
       "    <tr>\n",
       "      <th>0</th>\n",
       "      <td>1</td>\n",
       "      <td>0</td>\n",
       "      <td>3</td>\n",
       "      <td>male</td>\n",
       "      <td>YoungAdult</td>\n",
       "      <td>1</td>\n",
       "      <td>0</td>\n",
       "      <td>S</td>\n",
       "    </tr>\n",
       "    <tr>\n",
       "      <th>1</th>\n",
       "      <td>2</td>\n",
       "      <td>1</td>\n",
       "      <td>1</td>\n",
       "      <td>female</td>\n",
       "      <td>Adult</td>\n",
       "      <td>1</td>\n",
       "      <td>0</td>\n",
       "      <td>C</td>\n",
       "    </tr>\n",
       "    <tr>\n",
       "      <th>2</th>\n",
       "      <td>3</td>\n",
       "      <td>1</td>\n",
       "      <td>3</td>\n",
       "      <td>female</td>\n",
       "      <td>YoungAdult</td>\n",
       "      <td>0</td>\n",
       "      <td>0</td>\n",
       "      <td>S</td>\n",
       "    </tr>\n",
       "    <tr>\n",
       "      <th>3</th>\n",
       "      <td>4</td>\n",
       "      <td>1</td>\n",
       "      <td>1</td>\n",
       "      <td>female</td>\n",
       "      <td>YoungAdult</td>\n",
       "      <td>1</td>\n",
       "      <td>0</td>\n",
       "      <td>S</td>\n",
       "    </tr>\n",
       "    <tr>\n",
       "      <th>4</th>\n",
       "      <td>5</td>\n",
       "      <td>0</td>\n",
       "      <td>3</td>\n",
       "      <td>male</td>\n",
       "      <td>YoungAdult</td>\n",
       "      <td>0</td>\n",
       "      <td>0</td>\n",
       "      <td>S</td>\n",
       "    </tr>\n",
       "  </tbody>\n",
       "</table>\n",
       "</div>"
      ],
      "text/plain": [
       "   PassengerId  Survived  Pclass     Sex         Age  SibSp  Parch Embarked\n",
       "0            1         0       3    male  YoungAdult      1      0        S\n",
       "1            2         1       1  female       Adult      1      0        C\n",
       "2            3         1       3  female  YoungAdult      0      0        S\n",
       "3            4         1       1  female  YoungAdult      1      0        S\n",
       "4            5         0       3    male  YoungAdult      0      0        S"
      ]
     },
     "execution_count": 45,
     "metadata": {},
     "output_type": "execute_result"
    }
   ],
   "source": [
    "def simplify_ages(df):\n",
    "    df.Age.fillna(0)\n",
    "    bins=[0,5,14,20,35,60,90]\n",
    "    group_names=['Baby','Teenager','Student','YoungAdult','Adult','Senior']\n",
    "    categories = pd.cut(df.Age, bins, labels=group_names)\n",
    "    df.Age=categories\n",
    "    return df\n",
    "\n",
    "def drop_features(df):\n",
    "    df=df.drop(['Ticket','Name','Cabin','Fare'],axis=1)\n",
    "    return df\n",
    "\n",
    "def transform_features(df):\n",
    "    df=simplify_ages(df)\n",
    "    df=drop_features(df)\n",
    "    return df\n",
    "\n",
    "data_train=transform_features(data_train)\n",
    "data_test=transform_features(data_test)\n",
    "data_train.head()"
   ]
  },
  {
   "cell_type": "code",
   "execution_count": 46,
   "metadata": {
    "collapsed": false
   },
   "outputs": [
    {
     "data": {
      "text/plain": [
       "<matplotlib.axes._subplots.AxesSubplot at 0x7fd55c57dd50>"
      ]
     },
     "execution_count": 46,
     "metadata": {},
     "output_type": "execute_result"
    },
    {
     "data": {
      "image/png": "[encoded data removed]",
      "text/plain": [
       "<matplotlib.figure.Figure at 0x7fd55c77ffd0>"
      ]
     },
     "metadata": {},
     "output_type": "display_data"
    }
   ],
   "source": [
    "sns.barplot(x=\"Age\",y=\"Survived\",hue=\"Sex\",data=data_train)"
   ]
  },
  {
   "cell_type": "code",
   "execution_count": 47,
   "metadata": {
    "collapsed": false
   },
   "outputs": [
    {
     "data": {
      "text/html": [
       "<div>\n",
       "<style scoped>\n",
       "    .dataframe tbody tr th:only-of-type {\n",
       "        vertical-align: middle;\n",
       "    }\n",
       "\n",
       "    .dataframe tbody tr th {\n",
       "        vertical-align: top;\n",
       "    }\n",
       "\n",
       "    .dataframe thead th {\n",
       "        text-align: right;\n",
       "    }\n",
       "</style>\n",
       "<table border=\"1\" class=\"dataframe\">\n",
       "  <thead>\n",
       "    <tr style=\"text-align: right;\">\n",
       "      <th></th>\n",
       "      <th>PassengerId</th>\n",
       "      <th>Survived</th>\n",
       "      <th>Pclass</th>\n",
       "      <th>Sex</th>\n",
       "      <th>Age</th>\n",
       "      <th>SibSp</th>\n",
       "      <th>Parch</th>\n",
       "      <th>Embarked</th>\n",
       "    </tr>\n",
       "  </thead>\n",
       "  <tbody>\n",
       "    <tr>\n",
       "      <th>0</th>\n",
       "      <td>1</td>\n",
       "      <td>0</td>\n",
       "      <td>3</td>\n",
       "      <td>1</td>\n",
       "      <td>182</td>\n",
       "      <td>1</td>\n",
       "      <td>0</td>\n",
       "      <td>4</td>\n",
       "    </tr>\n",
       "    <tr>\n",
       "      <th>1</th>\n",
       "      <td>2</td>\n",
       "      <td>1</td>\n",
       "      <td>1</td>\n",
       "      <td>0</td>\n",
       "      <td>177</td>\n",
       "      <td>1</td>\n",
       "      <td>0</td>\n",
       "      <td>2</td>\n",
       "    </tr>\n",
       "    <tr>\n",
       "      <th>2</th>\n",
       "      <td>3</td>\n",
       "      <td>1</td>\n",
       "      <td>3</td>\n",
       "      <td>0</td>\n",
       "      <td>182</td>\n",
       "      <td>0</td>\n",
       "      <td>0</td>\n",
       "      <td>4</td>\n",
       "    </tr>\n",
       "    <tr>\n",
       "      <th>3</th>\n",
       "      <td>4</td>\n",
       "      <td>1</td>\n",
       "      <td>1</td>\n",
       "      <td>0</td>\n",
       "      <td>182</td>\n",
       "      <td>1</td>\n",
       "      <td>0</td>\n",
       "      <td>4</td>\n",
       "    </tr>\n",
       "    <tr>\n",
       "      <th>4</th>\n",
       "      <td>5</td>\n",
       "      <td>0</td>\n",
       "      <td>3</td>\n",
       "      <td>1</td>\n",
       "      <td>182</td>\n",
       "      <td>0</td>\n",
       "      <td>0</td>\n",
       "      <td>4</td>\n",
       "    </tr>\n",
       "  </tbody>\n",
       "</table>\n",
       "</div>"
      ],
      "text/plain": [
       "   PassengerId  Survived  Pclass  Sex  Age  SibSp  Parch  Embarked\n",
       "0            1         0       3    1  182      1      0         4\n",
       "1            2         1       1    0  177      1      0         2\n",
       "2            3         1       3    0  182      0      0         4\n",
       "3            4         1       1    0  182      1      0         4\n",
       "4            5         0       3    1  182      0      0         4"
      ]
     },
     "execution_count": 47,
     "metadata": {},
     "output_type": "execute_result"
    }
   ],
   "source": [
    "from sklearn import preprocessing\n",
    "\n",
    "def encode_features(df_train,df_test):\n",
    "    features=['Age','Sex','Embarked']\n",
    "    #df=pd.concat([df_train[features],df_test[features]])\n",
    "    for feature in features:\n",
    "        le=preprocessing.LabelEncoder()\n",
    "        df_train[feature] = le.fit_transform(df_train[feature])\n",
    "        df_test[feature] = le.fit_transform(df_test[feature])\n",
    "    return df_train, df_test\n",
    "\n",
    "data_train,data_test=encode_features(data_train,data_test)\n",
    "data_train.head()\n",
    "#data_test.head()\n",
    "        "
   ]
  },
  {
   "cell_type": "code",
   "execution_count": 48,
   "metadata": {
    "collapsed": false
   },
   "outputs": [
    {
     "name": "stdout",
     "output_type": "stream",
     "text": [
      "   Pclass  Sex  Age  SibSp  Parch  Embarked\n",
      "0       3    1  182      1      0         4\n",
      "1       1    0  177      1      0         2\n",
      "2       3    0  182      0      0         4\n",
      "3       1    0  182      1      0         4\n",
      "4       3    1  182      0      0         4\n"
     ]
    }
   ],
   "source": [
    "from sklearn.cross_validation import train_test_split\n",
    "\n",
    "label=data_train['Survived']\n",
    "features=data_train.drop(['PassengerId','Survived'],axis=1)\n",
    "print features[:5]\n",
    "\n",
    "X_train,X_test,Y_train,Y_test=train_test_split(features,label,test_size=0.20,random_state=47)\n"
   ]
  },
  {
   "cell_type": "code",
   "execution_count": 86,
   "metadata": {
    "collapsed": false
   },
   "outputs": [],
   "source": [
    "# from sklearn.preprocessing import StandardScaler\n",
    "# # Define the scaler\n",
    "# scaler = StandardScaler().fit(X_train)\n",
    "# # Scale the train set\n",
    "# X_train = scaler.transform(X_train)\n",
    "# X_test=scaler.fit_transform(X_test)\n",
    "# print X_train[:5]\n",
    "# print X_test[:5]"
   ]
  },
  {
   "cell_type": "code",
   "execution_count": 87,
   "metadata": {
    "collapsed": false
   },
   "outputs": [
    {
     "data": {
      "text/plain": [
       "XGBClassifier(base_score=0.5, colsample_bylevel=1, colsample_bytree=1,\n",
       "       gamma=0, learning_rate=0.1, max_delta_step=0, max_depth=3,\n",
       "       min_child_weight=1, missing=None, n_estimators=100, nthread=-1,\n",
       "       objective='binary:logistic', reg_alpha=0, reg_lambda=1,\n",
       "       scale_pos_weight=1, seed=0, silent=True, subsample=1)"
      ]
     },
     "execution_count": 87,
     "metadata": {},
     "output_type": "execute_result"
    }
   ],
   "source": [
    "from sklearn.ensemble import RandomForestClassifier\n",
    "from sklearn import svm\n",
    "from sklearn.grid_search import GridSearchCV\n",
    "from sklearn.metrics import make_scorer,accuracy_score\n",
    "import xgboost\n",
    "from xgboost import XGBClassifier\n",
    "\n",
    "#clf=RandomForestClassifier()\n",
    "clf=XGBClassifier()\n",
    "#clf=svm.SVC(C=10,kernel='rbf',gamma=1)\n",
    "\n",
    "'''parameters={'n_estimators':[4,6,9],'max_features':['log2', 'sqrt','auto'], \n",
    "            'criterion': ['entropy', 'gini'],\n",
    "            'max_depth': [2, 3, 5, 10], \n",
    "            'min_samples_split': [2, 3, 5],\n",
    "            'min_samples_leaf': [1,5,8]\n",
    "            }\n",
    "acc_scorer=make_scorer(accuracy_score)\n",
    "grid_obj=GridSearchCV(clf,parameters,scoring=acc_scorer)\n",
    "grid_obj=grid_obj.fit(X_train,Y_train)\n",
    "clf = grid_obj.best_estimator_\n",
    "'''\n",
    "# Fit the best algorithm to the data. \n",
    "clf.fit(X_train, Y_train)"
   ]
  },
  {
   "cell_type": "code",
   "execution_count": 88,
   "metadata": {
    "collapsed": false
   },
   "outputs": [
    {
     "name": "stdout",
     "output_type": "stream",
     "text": [
      "0.784753363229\n"
     ]
    }
   ],
   "source": [
    "predictions=clf.predict(X_test)\n",
    "print(accuracy_score(Y_test,predictions))"
   ]
  },
  {
   "cell_type": "code",
   "execution_count": 89,
   "metadata": {
    "collapsed": false
   },
   "outputs": [
    {
     "name": "stdout",
     "output_type": "stream",
     "text": [
      "Fold 1 accuracy: 0.811111111111\n",
      "Fold 2 accuracy: 0.808988764045\n",
      "Fold 3 accuracy: 0.797752808989\n",
      "Fold 4 accuracy: 0.831460674157\n",
      "Fold 5 accuracy: 0.831460674157\n",
      "Fold 6 accuracy: 0.820224719101\n",
      "Fold 7 accuracy: 0.797752808989\n",
      "Fold 8 accuracy: 0.741573033708\n",
      "Fold 9 accuracy: 0.910112359551\n",
      "Fold 10 accuracy: 0.808988764045\n",
      "Mean Accuracy: 0.815942571785\n"
     ]
    }
   ],
   "source": [
    "from sklearn.cross_validation import KFold\n",
    "\n",
    "def run_kfold(clf):\n",
    "    kf = KFold(891, n_folds=10)\n",
    "    outcomes = []\n",
    "    fold = 0\n",
    "    for train_index, test_index in kf:\n",
    "        fold += 1\n",
    "        X_train, X_test = features.values[train_index],features.values[test_index]\n",
    "        Y_train, Y_test = label.values[train_index], label.values[test_index]\n",
    "        clf.fit(X_train, Y_train)\n",
    "        predictions = clf.predict(X_test)\n",
    "        accuracy = accuracy_score(Y_test, predictions)\n",
    "        outcomes.append(accuracy)\n",
    "        print(\"Fold {0} accuracy: {1}\".format(fold, accuracy))     \n",
    "    mean_outcome = np.mean(outcomes)\n",
    "    print(\"Mean Accuracy: {0}\".format(mean_outcome)) \n",
    "\n",
    "run_kfold(clf)"
   ]
  },
  {
   "cell_type": "code",
   "execution_count": 85,
   "metadata": {
    "collapsed": false
   },
   "outputs": [
    {
     "name": "stdout",
     "output_type": "stream",
     "text": [
      "   PassengerId  Pclass  Sex  Age  SibSp  Parch  Embarked\n",
      "0          892       3    1   91      0      0         1\n",
      "1          893       3    0   86      1      0         2\n",
      "2          894       2    1   88      0      0         1\n",
      "3          895       3    1   91      0      0         2\n",
      "4          896       3    0   91      1      1         2\n"
     ]
    }
   ],
   "source": [
    "print data_test.head()\n",
    "#print data_train.head()\n",
    "ids=data_test['PassengerId']\n",
    "train_data=features\n",
    "train_label=label\n",
    "test_data=data_test.drop('PassengerId',axis=1)\n",
    "\n",
    "\n",
    "# scaler = StandardScaler().fit(train_data)\n",
    "# train_data = scaler.transform(train_data)\n",
    "# test_data=scaler.fit_transform(test_data)\n",
    "\n",
    "clf=XGBClassifier()\n",
    "#clf=svm.SVC(C=10,kernel='rbf',gamma=1)\n",
    "#clf=RandomForestClassifier()\n",
    "clf.fit(train_data,train_label)\n",
    "predictions=clf.predict(test_data)\n",
    "\n",
    "out=pd.DataFrame({\"PassengerId\":ids,\"Survived\":predictions})\n",
    "out.to_csv('submissions.csv', index = False)\n",
    "#out.sample(5)"
   ]
  }
 ],
 "metadata": {
  "kernelspec": {
   "display_name": "Python 2",
   "language": "python",
   "name": "python2"
  },
  "language_info": {
   "codemirror_mode": {
    "name": "ipython",
    "version": 2
   },
   "file_extension": ".py",
   "mimetype": "text/x-python",
   "name": "python",
   "nbconvert_exporter": "python",
   "pygments_lexer": "ipython2",
   "version": "2.7.12"
  }
 },
 "nbformat": 4,
 "nbformat_minor": 2
}
